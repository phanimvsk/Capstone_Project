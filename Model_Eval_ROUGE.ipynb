{
 "cells": [
  {
   "cell_type": "code",
   "execution_count": 4,
   "id": "9e5ab6d3",
   "metadata": {},
   "outputs": [],
   "source": [
    "from rouge import Rouge\n",
    "import pandas as pd"
   ]
  },
  {
   "cell_type": "code",
   "execution_count": null,
   "id": "6d577765",
   "metadata": {},
   "outputs": [],
   "source": [
    "## ROUGE stands for Recall-Oriented Understudy for Gisting Evaluation (ROUGE)\n",
    "##ROUGE-N measures the number of matching ‘n-grams’ between our model-generated text and a ‘reference’."
   ]
  },
  {
   "cell_type": "code",
   "execution_count": 5,
   "id": "5f5cddc6",
   "metadata": {},
   "outputs": [],
   "source": [
    "rouge = Rouge()"
   ]
  },
  {
   "cell_type": "code",
   "execution_count": 9,
   "id": "d5f94398",
   "metadata": {},
   "outputs": [],
   "source": [
    "df1 = pd.read_excel('C:/Users/mvsph/Desktop/Model evaluation.xlsx')"
   ]
  },
  {
   "cell_type": "code",
   "execution_count": 10,
   "id": "f910e2c7",
   "metadata": {},
   "outputs": [
    {
     "data": {
      "text/html": [
       "<div>\n",
       "<style scoped>\n",
       "    .dataframe tbody tr th:only-of-type {\n",
       "        vertical-align: middle;\n",
       "    }\n",
       "\n",
       "    .dataframe tbody tr th {\n",
       "        vertical-align: top;\n",
       "    }\n",
       "\n",
       "    .dataframe thead th {\n",
       "        text-align: right;\n",
       "    }\n",
       "</style>\n",
       "<table border=\"1\" class=\"dataframe\">\n",
       "  <thead>\n",
       "    <tr style=\"text-align: right;\">\n",
       "      <th></th>\n",
       "      <th>Question</th>\n",
       "      <th>Model answer</th>\n",
       "      <th>Context</th>\n",
       "    </tr>\n",
       "  </thead>\n",
       "  <tbody>\n",
       "    <tr>\n",
       "      <th>0</th>\n",
       "      <td>what is logistic regression</td>\n",
       "      <td>Logistic regression is a form of predictive an...</td>\n",
       "      <td>Logistic regression is a form of predictive an...</td>\n",
       "    </tr>\n",
       "    <tr>\n",
       "      <th>1</th>\n",
       "      <td>What is feature engineering</td>\n",
       "      <td>We can even visualize, to get more insights ea...</td>\n",
       "      <td>In general, Data Exploration means \"Define Dat...</td>\n",
       "    </tr>\n",
       "    <tr>\n",
       "      <th>2</th>\n",
       "      <td>What is data science</td>\n",
       "      <td>Data science involves the task of transforming...</td>\n",
       "      <td>A data science career path requires competence...</td>\n",
       "    </tr>\n",
       "    <tr>\n",
       "      <th>3</th>\n",
       "      <td>What is artificial intellgence</td>\n",
       "      <td>There are different types of Artificial Intell...</td>\n",
       "      <td>It is a decision tree where each fork is split...</td>\n",
       "    </tr>\n",
       "    <tr>\n",
       "      <th>4</th>\n",
       "      <td>categorical variables are used for</td>\n",
       "      <td>Categorical variables must be encoded in many ...</td>\n",
       "      <td>Encoding is the transformation of categorical ...</td>\n",
       "    </tr>\n",
       "    <tr>\n",
       "      <th>5</th>\n",
       "      <td>Encoding will be useful when</td>\n",
       "      <td>Categorical variables must be encoded in many ...</td>\n",
       "      <td>Encoding is the transformation of categorical ...</td>\n",
       "    </tr>\n",
       "    <tr>\n",
       "      <th>6</th>\n",
       "      <td>what are different domains of artificial intel...</td>\n",
       "      <td>They are as follows Machine Learning, Neural N...</td>\n",
       "      <td>There are different domains of Artificial Inte...</td>\n",
       "    </tr>\n",
       "    <tr>\n",
       "      <th>7</th>\n",
       "      <td>What is meant by Artificial Superhuman Intelli...</td>\n",
       "      <td>Artificial Superhuman Intelligence (ASI) is th...</td>\n",
       "      <td>e AI, used in building virtual assistants like...</td>\n",
       "    </tr>\n",
       "    <tr>\n",
       "      <th>8</th>\n",
       "      <td>What is meant by Q-learning</td>\n",
       "      <td>reward, a value function, and, optionally, a m...</td>\n",
       "      <td>It refers to how certain behaviors are encour...</td>\n",
       "    </tr>\n",
       "    <tr>\n",
       "      <th>9</th>\n",
       "      <td>What is CART</td>\n",
       "      <td>CART is abbreviated as “ Classification And Re...</td>\n",
       "      <td>a machine to imitate the intelligent human beh...</td>\n",
       "    </tr>\n",
       "    <tr>\n",
       "      <th>10</th>\n",
       "      <td>What is predictive modelling</td>\n",
       "      <td>Predictive modeling is a form of data mining t...</td>\n",
       "      <td>Predictive modeling can also forecast future r...</td>\n",
       "    </tr>\n",
       "  </tbody>\n",
       "</table>\n",
       "</div>"
      ],
      "text/plain": [
       "                                             Question  \\\n",
       "0                         what is logistic regression   \n",
       "1                         What is feature engineering   \n",
       "2                                What is data science   \n",
       "3                      What is artificial intellgence   \n",
       "4                  categorical variables are used for   \n",
       "5                        Encoding will be useful when   \n",
       "6   what are different domains of artificial intel...   \n",
       "7   What is meant by Artificial Superhuman Intelli...   \n",
       "8                         What is meant by Q-learning   \n",
       "9                                        What is CART   \n",
       "10                       What is predictive modelling   \n",
       "\n",
       "                                         Model answer  \\\n",
       "0   Logistic regression is a form of predictive an...   \n",
       "1   We can even visualize, to get more insights ea...   \n",
       "2   Data science involves the task of transforming...   \n",
       "3   There are different types of Artificial Intell...   \n",
       "4   Categorical variables must be encoded in many ...   \n",
       "5   Categorical variables must be encoded in many ...   \n",
       "6   They are as follows Machine Learning, Neural N...   \n",
       "7   Artificial Superhuman Intelligence (ASI) is th...   \n",
       "8   reward, a value function, and, optionally, a m...   \n",
       "9   CART is abbreviated as “ Classification And Re...   \n",
       "10  Predictive modeling is a form of data mining t...   \n",
       "\n",
       "                                              Context  \n",
       "0   Logistic regression is a form of predictive an...  \n",
       "1   In general, Data Exploration means \"Define Dat...  \n",
       "2   A data science career path requires competence...  \n",
       "3   It is a decision tree where each fork is split...  \n",
       "4   Encoding is the transformation of categorical ...  \n",
       "5   Encoding is the transformation of categorical ...  \n",
       "6   There are different domains of Artificial Inte...  \n",
       "7   e AI, used in building virtual assistants like...  \n",
       "8    It refers to how certain behaviors are encour...  \n",
       "9   a machine to imitate the intelligent human beh...  \n",
       "10  Predictive modeling can also forecast future r...  "
      ]
     },
     "execution_count": 10,
     "metadata": {},
     "output_type": "execute_result"
    }
   ],
   "source": [
    "df1"
   ]
  },
  {
   "cell_type": "code",
   "execution_count": 12,
   "id": "e1a87f49",
   "metadata": {},
   "outputs": [],
   "source": [
    "model_out = df1[\"Model answer\"]\n",
    "reference = df1[\"Context\"]"
   ]
  },
  {
   "cell_type": "code",
   "execution_count": 15,
   "id": "a2ee7321",
   "metadata": {},
   "outputs": [
    {
     "data": {
      "text/plain": [
       "{'rouge-1': {'r': 0.4704049456960197,\n",
       "  'p': 0.9945668809305173,\n",
       "  'f': 0.6052124074495292},\n",
       " 'rouge-2': {'r': 0.42223136972860525,\n",
       "  'p': 0.993188184364655,\n",
       "  'f': 0.5572291872274815},\n",
       " 'rouge-l': {'r': 0.4704049456960197,\n",
       "  'p': 0.9945668809305173,\n",
       "  'f': 0.6052124074495292}}"
      ]
     },
     "execution_count": 15,
     "metadata": {},
     "output_type": "execute_result"
    }
   ],
   "source": [
    "## ROUGE stands for Recall-Oriented Understudy for Gisting Evaluation (ROUGE)\n",
    "##ROUGE-N measures the number of matching ‘n-grams’ between our model-generated text and a ‘reference’.\n",
    "rouge.get_scores(model_out, reference, avg=True)\n",
    "## p is precision score\n",
    "## r is recall score\n",
    "## f is f1 score"
   ]
  }
 ],
 "metadata": {
  "kernelspec": {
   "display_name": "Python 3 (ipykernel)",
   "language": "python",
   "name": "python3"
  },
  "language_info": {
   "codemirror_mode": {
    "name": "ipython",
    "version": 3
   },
   "file_extension": ".py",
   "mimetype": "text/x-python",
   "name": "python",
   "nbconvert_exporter": "python",
   "pygments_lexer": "ipython3",
   "version": "3.9.7"
  }
 },
 "nbformat": 4,
 "nbformat_minor": 5
}
