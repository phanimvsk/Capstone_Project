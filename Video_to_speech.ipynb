{
 "cells": [
  {
   "cell_type": "markdown",
   "id": "a2e7975b",
   "metadata": {},
   "source": [
    "## Video to Speech"
   ]
  },
  {
   "cell_type": "markdown",
   "id": "4740b2e5",
   "metadata": {},
   "source": [
    "## Installing necessary libraries"
   ]
  },
  {
   "cell_type": "code",
   "execution_count": 1,
   "id": "da0d58e4",
   "metadata": {},
   "outputs": [
    {
     "name": "stdout",
     "output_type": "stream",
     "text": [
      "Requirement already satisfied: Wave in /Users/rohitsanam/opt/anaconda3/lib/python3.8/site-packages (0.0.2)\n",
      "\n",
      "\u001b[1m[\u001b[0m\u001b[34;49mnotice\u001b[0m\u001b[1;39;49m]\u001b[0m\u001b[39;49m A new release of pip available: \u001b[0m\u001b[31;49m22.2.2\u001b[0m\u001b[39;49m -> \u001b[0m\u001b[32;49m22.3\u001b[0m\n",
      "\u001b[1m[\u001b[0m\u001b[34;49mnotice\u001b[0m\u001b[1;39;49m]\u001b[0m\u001b[39;49m To update, run: \u001b[0m\u001b[32;49mpip install --upgrade pip\u001b[0m\n",
      "Requirement already satisfied: moviepy in /Users/rohitsanam/opt/anaconda3/lib/python3.8/site-packages (1.0.3)\n",
      "Requirement already satisfied: imageio-ffmpeg>=0.2.0 in /Users/rohitsanam/opt/anaconda3/lib/python3.8/site-packages (from moviepy) (0.4.7)\n",
      "Requirement already satisfied: imageio<3.0,>=2.5 in /Users/rohitsanam/opt/anaconda3/lib/python3.8/site-packages (from moviepy) (2.9.0)\n",
      "Requirement already satisfied: numpy>=1.17.3 in /Users/rohitsanam/opt/anaconda3/lib/python3.8/site-packages (from moviepy) (1.23.1)\n",
      "Requirement already satisfied: tqdm<5.0,>=4.11.2 in /Users/rohitsanam/opt/anaconda3/lib/python3.8/site-packages (from moviepy) (4.59.0)\n",
      "Requirement already satisfied: decorator<5.0,>=4.0.2 in /Users/rohitsanam/opt/anaconda3/lib/python3.8/site-packages (from moviepy) (4.4.2)\n",
      "Requirement already satisfied: proglog<=1.0.0 in /Users/rohitsanam/opt/anaconda3/lib/python3.8/site-packages (from moviepy) (0.1.10)\n",
      "Requirement already satisfied: requests<3.0,>=2.8.1 in /Users/rohitsanam/opt/anaconda3/lib/python3.8/site-packages (from moviepy) (2.25.1)\n",
      "Requirement already satisfied: pillow in /Users/rohitsanam/opt/anaconda3/lib/python3.8/site-packages (from imageio<3.0,>=2.5->moviepy) (8.2.0)\n",
      "Requirement already satisfied: idna<3,>=2.5 in /Users/rohitsanam/opt/anaconda3/lib/python3.8/site-packages (from requests<3.0,>=2.8.1->moviepy) (2.10)\n",
      "Requirement already satisfied: chardet<5,>=3.0.2 in /Users/rohitsanam/opt/anaconda3/lib/python3.8/site-packages (from requests<3.0,>=2.8.1->moviepy) (4.0.0)\n",
      "Requirement already satisfied: urllib3<1.27,>=1.21.1 in /Users/rohitsanam/opt/anaconda3/lib/python3.8/site-packages (from requests<3.0,>=2.8.1->moviepy) (1.26.9)\n",
      "Requirement already satisfied: certifi>=2017.4.17 in /Users/rohitsanam/opt/anaconda3/lib/python3.8/site-packages (from requests<3.0,>=2.8.1->moviepy) (2022.6.15)\n",
      "\n",
      "\u001b[1m[\u001b[0m\u001b[34;49mnotice\u001b[0m\u001b[1;39;49m]\u001b[0m\u001b[39;49m A new release of pip available: \u001b[0m\u001b[31;49m22.2.2\u001b[0m\u001b[39;49m -> \u001b[0m\u001b[32;49m22.3\u001b[0m\n",
      "\u001b[1m[\u001b[0m\u001b[34;49mnotice\u001b[0m\u001b[1;39;49m]\u001b[0m\u001b[39;49m To update, run: \u001b[0m\u001b[32;49mpip install --upgrade pip\u001b[0m\n",
      "Requirement already satisfied: SpeechRecognition in /Users/rohitsanam/opt/anaconda3/lib/python3.8/site-packages (3.8.1)\n",
      "\n",
      "\u001b[1m[\u001b[0m\u001b[34;49mnotice\u001b[0m\u001b[1;39;49m]\u001b[0m\u001b[39;49m A new release of pip available: \u001b[0m\u001b[31;49m22.2.2\u001b[0m\u001b[39;49m -> \u001b[0m\u001b[32;49m22.3\u001b[0m\n",
      "\u001b[1m[\u001b[0m\u001b[34;49mnotice\u001b[0m\u001b[1;39;49m]\u001b[0m\u001b[39;49m To update, run: \u001b[0m\u001b[32;49mpip install --upgrade pip\u001b[0m\n"
     ]
    }
   ],
   "source": [
    "!pip install Wave\n",
    "!pip install moviepy \n",
    "!pip install SpeechRecognition"
   ]
  },
  {
   "cell_type": "markdown",
   "id": "b03851ce",
   "metadata": {},
   "source": [
    "## Importing all the necessary libraries"
   ]
  },
  {
   "cell_type": "code",
   "execution_count": 11,
   "id": "4180b4a6",
   "metadata": {},
   "outputs": [],
   "source": [
    "import wave, math, contextlib\n",
    "import speech_recognition as sr\n",
    "import moviepy.editor as mp"
   ]
  },
  {
   "cell_type": "code",
   "execution_count": 12,
   "id": "54b6097d",
   "metadata": {},
   "outputs": [
    {
     "name": "stderr",
     "output_type": "stream",
     "text": [
      "chunk:   1%|          | 353/47283 [00:00<00:13, 3522.46it/s, now=None]"
     ]
    },
    {
     "name": "stdout",
     "output_type": "stream",
     "text": [
      "MoviePy - Writing audio in /Users/rohitsanam/Desktop/video1724062975.wav\n"
     ]
    },
    {
     "name": "stderr",
     "output_type": "stream",
     "text": [
      "                                                                        "
     ]
    },
    {
     "name": "stdout",
     "output_type": "stream",
     "text": [
      "MoviePy - Done.\n"
     ]
    },
    {
     "name": "stderr",
     "output_type": "stream",
     "text": [
      "\r"
     ]
    }
   ],
   "source": [
    "video_fname = input(\"Enter the video path: \")\n",
    "audio_fname = input(\"Enter the name of the audio file along with extension:\")\n",
    "video = mp.AudioFileClip(video_fname)\n",
    "## Now let us convert the video into audio\n",
    "audio = video.write_audiofile(audio_fname)"
   ]
  },
  {
   "cell_type": "code",
   "execution_count": null,
   "id": "d9c6e81e",
   "metadata": {},
   "outputs": [],
   "source": []
  }
 ],
 "metadata": {
  "kernelspec": {
   "display_name": "Python 3",
   "language": "python",
   "name": "python3"
  },
  "language_info": {
   "codemirror_mode": {
    "name": "ipython",
    "version": 3
   },
   "file_extension": ".py",
   "mimetype": "text/x-python",
   "name": "python",
   "nbconvert_exporter": "python",
   "pygments_lexer": "ipython3",
   "version": "3.8.8"
  }
 },
 "nbformat": 4,
 "nbformat_minor": 5
}
