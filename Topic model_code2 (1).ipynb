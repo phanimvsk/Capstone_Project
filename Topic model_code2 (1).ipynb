{
 "cells": [
  {
   "cell_type": "code",
   "execution_count": 2,
   "id": "b378d1b8",
   "metadata": {},
   "outputs": [],
   "source": [
    "#Dependencies\n",
    "import pandas as pd\n",
    "import gensim #the library for Topic modelling\n",
    "from gensim.models.ldamulticore import LdaMulticore\n",
    "from gensim import corpora, models\n",
    "import pyLDAvis.gensim_models #LDA visualization library\n",
    "\n",
    "from nltk.corpus import stopwords\n",
    "import string\n",
    "from nltk.stem.wordnet import WordNetLemmatizer\n",
    "\n",
    "import warnings\n",
    "warnings.simplefilter('ignore')\n",
    "from itertools import chain"
   ]
  },
  {
   "cell_type": "code",
   "execution_count": 3,
   "id": "3585ba45",
   "metadata": {},
   "outputs": [
    {
     "name": "stdout",
     "output_type": "stream",
     "text": [
      "C:/Users/Admin/Desktop/ISB/Capstone/Work/Data/Sample/mergefile.txt\n",
      "C:/Users/Admin/Desktop/ISB/Capstone/Work/Data/Sample/Raw Data FileA_7.txt\n",
      "C:/Users/Admin/Desktop/ISB/Capstone/Work/Data/Sample/Raw Data File_1.txt\n",
      "C:/Users/Admin/Desktop/ISB/Capstone/Work/Data/Sample/Raw Data File_4.txt\n",
      "C:/Users/Admin/Desktop/ISB/Capstone/Work/Data/Sample/Raw Data File_6.txt\n",
      "C:/Users/Admin/Desktop/ISB/Capstone/Work/Data/Sample/Raw Data_3.txt\n",
      "C:/Users/Admin/Desktop/ISB/Capstone/Work/Data/Sample/Raw Data_5.txt\n",
      "C:/Users/Admin/Desktop/ISB/Capstone/Work/Data/Sample/Raw File_2.txt\n"
     ]
    },
    {
     "data": {
      "text/html": [
       "<div>\n",
       "<style scoped>\n",
       "    .dataframe tbody tr th:only-of-type {\n",
       "        vertical-align: middle;\n",
       "    }\n",
       "\n",
       "    .dataframe tbody tr th {\n",
       "        vertical-align: top;\n",
       "    }\n",
       "\n",
       "    .dataframe thead th {\n",
       "        text-align: right;\n",
       "    }\n",
       "</style>\n",
       "<table border=\"1\" class=\"dataframe\">\n",
       "  <thead>\n",
       "    <tr style=\"text-align: right;\">\n",
       "      <th></th>\n",
       "      <th>topic</th>\n",
       "      <th>topic_text</th>\n",
       "    </tr>\n",
       "  </thead>\n",
       "  <tbody>\n",
       "    <tr>\n",
       "      <th>0</th>\n",
       "      <td>mergefile.txt</td>\n",
       "      <td>\\nDATA SCICENCE FULL COURSE- 10 HOURS -EDUREKA...</td>\n",
       "    </tr>\n",
       "    <tr>\n",
       "      <th>1</th>\n",
       "      <td>Raw Data FileA_7.txt</td>\n",
       "      <td>\\nDATA SCICENCE FULL COURSE- 10 HOURS -EDUREKA...</td>\n",
       "    </tr>\n",
       "    <tr>\n",
       "      <th>2</th>\n",
       "      <td>Raw Data File_1.txt</td>\n",
       "      <td>Welcome to the lecture on the implementation o...</td>\n",
       "    </tr>\n",
       "    <tr>\n",
       "      <th>3</th>\n",
       "      <td>Raw Data File_4.txt</td>\n",
       "      <td>\\nUndoubtedly, Data Science is the most revolu...</td>\n",
       "    </tr>\n",
       "    <tr>\n",
       "      <th>4</th>\n",
       "      <td>Raw Data File_6.txt</td>\n",
       "      <td>\\nhello everyone so welcome to this data scien...</td>\n",
       "    </tr>\n",
       "    <tr>\n",
       "      <th>5</th>\n",
       "      <td>Raw Data_3.txt</td>\n",
       "      <td>\\nShort introduction of regression \\n\\nHello a...</td>\n",
       "    </tr>\n",
       "    <tr>\n",
       "      <th>6</th>\n",
       "      <td>Raw Data_5.txt</td>\n",
       "      <td>\\n1)Introduction\\nhello and welcome to the cou...</td>\n",
       "    </tr>\n",
       "    <tr>\n",
       "      <th>7</th>\n",
       "      <td>Raw File_2.txt</td>\n",
       "      <td>\\nSUPPORT VECTOR (CONTINUE)\\nHello and welcome...</td>\n",
       "    </tr>\n",
       "  </tbody>\n",
       "</table>\n",
       "</div>"
      ],
      "text/plain": [
       "                  topic                                         topic_text\n",
       "0         mergefile.txt  \\nDATA SCICENCE FULL COURSE- 10 HOURS -EDUREKA...\n",
       "1  Raw Data FileA_7.txt  \\nDATA SCICENCE FULL COURSE- 10 HOURS -EDUREKA...\n",
       "2   Raw Data File_1.txt  Welcome to the lecture on the implementation o...\n",
       "3   Raw Data File_4.txt  \\nUndoubtedly, Data Science is the most revolu...\n",
       "4   Raw Data File_6.txt  \\nhello everyone so welcome to this data scien...\n",
       "5        Raw Data_3.txt  \\nShort introduction of regression \\n\\nHello a...\n",
       "6        Raw Data_5.txt  \\n1)Introduction\\nhello and welcome to the cou...\n",
       "7        Raw File_2.txt  \\nSUPPORT VECTOR (CONTINUE)\\nHello and welcome..."
      ]
     },
     "execution_count": 3,
     "metadata": {},
     "output_type": "execute_result"
    }
   ],
   "source": [
    "# Import Module\n",
    "import os\n",
    "\n",
    "# Folder Path\n",
    "path = \"C:/Users/Admin/Desktop/ISB/Capstone/Work/Data/Sample\"\n",
    "\n",
    "col = ['topic','topic_text']\n",
    "df1 = pd.DataFrame(columns = ['topic','topic_text'])\n",
    "df1_list = []\n",
    "\n",
    "# Change the directory\n",
    "os.chdir(path)\n",
    "\n",
    "# Read text File\n",
    "\n",
    "\n",
    "def read_text_file(file_path):\n",
    "    with open(file_path, 'r',encoding = 'unicode_escape') as f:\n",
    "        return(f.read())\n",
    "\n",
    "\n",
    "# iterate through all file\n",
    "for file in os.listdir():\n",
    "    # Check whether file is in text format or not\n",
    "    if file.endswith(\".txt\"):\n",
    "        df1_list = []\n",
    "        file_path = f\"{path}/{file}\"\n",
    "        print(file_path)\n",
    "        df1_list.append(file)\n",
    "\n",
    "        # call read text file function\n",
    "        df1_list.append(read_text_file(file_path))\n",
    "        df1 = df1.append(pd.DataFrame([df1_list],columns = col),ignore_index = True)\n",
    "        \n",
    "df1"
   ]
  },
  {
   "cell_type": "code",
   "execution_count": 4,
   "id": "1a4007b4",
   "metadata": {},
   "outputs": [],
   "source": [
    "#clean the data\n",
    "stop = set(stopwords.words('english'))\n",
    "exclude = set(string.punctuation)\n",
    "lemma = WordNetLemmatizer()\n",
    "\n",
    "def clean(text):\n",
    "    stop_free = ' '.join([word for word in text.lower().split() if word not in stop])\n",
    "    punc_free = ''.join(ch for ch in stop_free if ch not in exclude)\n",
    "    normalized = ' '.join([lemma.lemmatize(word) for word in punc_free.split()])\n",
    "    return normalized.split()"
   ]
  },
  {
   "cell_type": "code",
   "execution_count": 13,
   "id": "adc976b3",
   "metadata": {},
   "outputs": [],
   "source": [
    "df1['text_clean']= df1['topic_text'].apply(clean)"
   ]
  },
  {
   "cell_type": "code",
   "execution_count": 14,
   "id": "35069d57",
   "metadata": {},
   "outputs": [
    {
     "data": {
      "text/html": [
       "<div>\n",
       "<style scoped>\n",
       "    .dataframe tbody tr th:only-of-type {\n",
       "        vertical-align: middle;\n",
       "    }\n",
       "\n",
       "    .dataframe tbody tr th {\n",
       "        vertical-align: top;\n",
       "    }\n",
       "\n",
       "    .dataframe thead th {\n",
       "        text-align: right;\n",
       "    }\n",
       "</style>\n",
       "<table border=\"1\" class=\"dataframe\">\n",
       "  <thead>\n",
       "    <tr style=\"text-align: right;\">\n",
       "      <th></th>\n",
       "      <th>topic</th>\n",
       "      <th>topic_text</th>\n",
       "      <th>text_clean</th>\n",
       "    </tr>\n",
       "  </thead>\n",
       "  <tbody>\n",
       "    <tr>\n",
       "      <th>0</th>\n",
       "      <td>mergefile.txt</td>\n",
       "      <td>\\nDATA SCICENCE FULL COURSE- 10 HOURS -EDUREKA...</td>\n",
       "      <td>[data, scicence, full, course, 10, hour, edure...</td>\n",
       "    </tr>\n",
       "    <tr>\n",
       "      <th>1</th>\n",
       "      <td>Raw Data FileA_7.txt</td>\n",
       "      <td>\\nDATA SCICENCE FULL COURSE- 10 HOURS -EDUREKA...</td>\n",
       "      <td>[data, scicence, full, course, 10, hour, edure...</td>\n",
       "    </tr>\n",
       "    <tr>\n",
       "      <th>2</th>\n",
       "      <td>Raw Data File_1.txt</td>\n",
       "      <td>Welcome to the lecture on the implementation o...</td>\n",
       "      <td>[welcome, lecture, implementation, simple, lin...</td>\n",
       "    </tr>\n",
       "    <tr>\n",
       "      <th>3</th>\n",
       "      <td>Raw Data File_4.txt</td>\n",
       "      <td>\\nUndoubtedly, Data Science is the most revolu...</td>\n",
       "      <td>[undoubtedly, data, science, revolutionary, te...</td>\n",
       "    </tr>\n",
       "    <tr>\n",
       "      <th>4</th>\n",
       "      <td>Raw Data File_6.txt</td>\n",
       "      <td>\\nhello everyone so welcome to this data scien...</td>\n",
       "      <td>[hello, everyone, welcome, data, science, road...</td>\n",
       "    </tr>\n",
       "    <tr>\n",
       "      <th>5</th>\n",
       "      <td>Raw Data_3.txt</td>\n",
       "      <td>\\nShort introduction of regression \\n\\nHello a...</td>\n",
       "      <td>[short, introduction, regression, hello, welco...</td>\n",
       "    </tr>\n",
       "    <tr>\n",
       "      <th>6</th>\n",
       "      <td>Raw Data_5.txt</td>\n",
       "      <td>\\n1)Introduction\\nhello and welcome to the cou...</td>\n",
       "      <td>[1introduction, hello, welcome, course, introd...</td>\n",
       "    </tr>\n",
       "    <tr>\n",
       "      <th>7</th>\n",
       "      <td>Raw File_2.txt</td>\n",
       "      <td>\\nSUPPORT VECTOR (CONTINUE)\\nHello and welcome...</td>\n",
       "      <td>[support, vector, continue, hello, welcome, ba...</td>\n",
       "    </tr>\n",
       "  </tbody>\n",
       "</table>\n",
       "</div>"
      ],
      "text/plain": [
       "                  topic                                         topic_text  \\\n",
       "0         mergefile.txt  \\nDATA SCICENCE FULL COURSE- 10 HOURS -EDUREKA...   \n",
       "1  Raw Data FileA_7.txt  \\nDATA SCICENCE FULL COURSE- 10 HOURS -EDUREKA...   \n",
       "2   Raw Data File_1.txt  Welcome to the lecture on the implementation o...   \n",
       "3   Raw Data File_4.txt  \\nUndoubtedly, Data Science is the most revolu...   \n",
       "4   Raw Data File_6.txt  \\nhello everyone so welcome to this data scien...   \n",
       "5        Raw Data_3.txt  \\nShort introduction of regression \\n\\nHello a...   \n",
       "6        Raw Data_5.txt  \\n1)Introduction\\nhello and welcome to the cou...   \n",
       "7        Raw File_2.txt  \\nSUPPORT VECTOR (CONTINUE)\\nHello and welcome...   \n",
       "\n",
       "                                          text_clean  \n",
       "0  [data, scicence, full, course, 10, hour, edure...  \n",
       "1  [data, scicence, full, course, 10, hour, edure...  \n",
       "2  [welcome, lecture, implementation, simple, lin...  \n",
       "3  [undoubtedly, data, science, revolutionary, te...  \n",
       "4  [hello, everyone, welcome, data, science, road...  \n",
       "5  [short, introduction, regression, hello, welco...  \n",
       "6  [1introduction, hello, welcome, course, introd...  \n",
       "7  [support, vector, continue, hello, welcome, ba...  "
      ]
     },
     "execution_count": 14,
     "metadata": {},
     "output_type": "execute_result"
    }
   ],
   "source": [
    "df1"
   ]
  },
  {
   "cell_type": "code",
   "execution_count": 15,
   "id": "a05fc300",
   "metadata": {},
   "outputs": [
    {
     "name": "stdout",
     "output_type": "stream",
     "text": [
      "32900\n"
     ]
    }
   ],
   "source": [
    "#create dictionary\n",
    "dictionary = corpora.Dictionary(df1['text_clean'])\n",
    "#Total number of non-zeroes in the BOW matrix (sum of the number of unique words per document over the entire corpus).\n",
    "print(dictionary.num_nnz)"
   ]
  },
  {
   "cell_type": "code",
   "execution_count": 16,
   "id": "ea0a2b25",
   "metadata": {},
   "outputs": [
    {
     "name": "stdout",
     "output_type": "stream",
     "text": [
      "8\n"
     ]
    }
   ],
   "source": [
    "#create document term matrix\n",
    "doc_term_matrix = [dictionary.doc2bow(doc) for doc in df1['text_clean'] ]\n",
    "print(len(doc_term_matrix))"
   ]
  },
  {
   "cell_type": "code",
   "execution_count": 17,
   "id": "4b9dc95c",
   "metadata": {},
   "outputs": [],
   "source": [
    "lda = gensim.models.ldamodel.LdaModel"
   ]
  },
  {
   "cell_type": "code",
   "execution_count": 18,
   "id": "0d141ed4",
   "metadata": {},
   "outputs": [
    {
     "name": "stdout",
     "output_type": "stream",
     "text": [
      "Wall time: 2min 49s\n"
     ]
    }
   ],
   "source": [
    "num_topics=10\n",
    "%time ldamodel = lda(doc_term_matrix,num_topics=num_topics,id2word=dictionary,passes=50,minimum_probability=0)"
   ]
  },
  {
   "cell_type": "code",
   "execution_count": 19,
   "id": "c1d54666",
   "metadata": {},
   "outputs": [
    {
     "data": {
      "text/plain": [
       "[(0,\n",
       "  '0.000*\"data\" + 0.000*\"one\" + 0.000*\"going\" + 0.000*\"1\" + 0.000*\"so\" + 0.000*\"value\" + 0.000*\"set\" + 0.000*\"let\" + 0.000*\"right\" + 0.000*\"variable\"'),\n",
       " (1,\n",
       "  '0.024*\"data\" + 0.011*\"right\" + 0.011*\"value\" + 0.010*\"let\" + 0.008*\"one\" + 0.008*\"set\" + 0.007*\"see\" + 0.007*\"learning\" + 0.007*\"going\" + 0.007*\"1\"'),\n",
       " (2,\n",
       "  '0.000*\"data\" + 0.000*\"so\" + 0.000*\"value\" + 0.000*\"one\" + 0.000*\"going\" + 0.000*\"see\" + 0.000*\"set\" + 0.000*\"let\" + 0.000*\"1\" + 0.000*\"point\"'),\n",
       " (3,\n",
       "  '0.000*\"data\" + 0.000*\"right\" + 0.000*\"value\" + 0.000*\"let\" + 0.000*\"going\" + 0.000*\"one\" + 0.000*\"see\" + 0.000*\"learning\" + 0.000*\"so\" + 0.000*\"probability\"'),\n",
       " (4,\n",
       "  '0.000*\"data\" + 0.000*\"so\" + 0.000*\"point\" + 0.000*\"right\" + 0.000*\"1\" + 0.000*\"set\" + 0.000*\"value\" + 0.000*\"one\" + 0.000*\"learning\" + 0.000*\"going\"'),\n",
       " (5,\n",
       "  '0.041*\"so\" + 0.027*\"data\" + 0.015*\"point\" + 0.015*\"cluster\" + 0.013*\"1\" + 0.012*\"x\" + 0.010*\"essentially\" + 0.009*\"one\" + 0.009*\"right\" + 0.009*\"output\"'),\n",
       " (6,\n",
       "  '0.000*\"data\" + 0.000*\"so\" + 0.000*\"value\" + 0.000*\"right\" + 0.000*\"going\" + 0.000*\"learning\" + 0.000*\"one\" + 0.000*\"let\" + 0.000*\"get\" + 0.000*\"variable\"'),\n",
       " (7,\n",
       "  '0.021*\"going\" + 0.017*\"data\" + 0.017*\"able\" + 0.015*\"im\" + 0.015*\"try\" + 0.014*\"right\" + 0.014*\"thing\" + 0.014*\"uh\" + 0.013*\"supposed\" + 0.012*\"maybe\"'),\n",
       " (8,\n",
       "  '0.000*\"data\" + 0.000*\"so\" + 0.000*\"let\" + 0.000*\"going\" + 0.000*\"right\" + 0.000*\"1\" + 0.000*\"value\" + 0.000*\"point\" + 0.000*\"variable\" + 0.000*\"one\"'),\n",
       " (9,\n",
       "  '0.036*\"so\" + 0.018*\"data\" + 0.011*\"1\" + 0.010*\"going\" + 0.010*\"variable\" + 0.009*\"point\" + 0.009*\"mean\" + 0.008*\"x\" + 0.008*\"say\" + 0.008*\"distribution\"')]"
      ]
     },
     "execution_count": 19,
     "metadata": {},
     "output_type": "execute_result"
    }
   ],
   "source": [
    "ldamodel.print_topics(num_topics=num_topics)"
   ]
  },
  {
   "cell_type": "code",
   "execution_count": 1,
   "id": "a0b398da",
   "metadata": {},
   "outputs": [
    {
     "ename": "NameError",
     "evalue": "name 'pyLDAvis' is not defined",
     "output_type": "error",
     "traceback": [
      "\u001b[1;31m---------------------------------------------------------------------------\u001b[0m",
      "\u001b[1;31mNameError\u001b[0m                                 Traceback (most recent call last)",
      "\u001b[1;32m<ipython-input-1-35dfb312fe40>\u001b[0m in \u001b[0;36m<module>\u001b[1;34m\u001b[0m\n\u001b[1;32m----> 1\u001b[1;33m \u001b[0mlda_display\u001b[0m \u001b[1;33m=\u001b[0m \u001b[0mpyLDAvis\u001b[0m\u001b[1;33m.\u001b[0m\u001b[0mgensim_models\u001b[0m\u001b[1;33m.\u001b[0m\u001b[0mprepare\u001b[0m\u001b[1;33m(\u001b[0m\u001b[0mldamodel\u001b[0m\u001b[1;33m,\u001b[0m \u001b[0mdoc_term_matrix\u001b[0m\u001b[1;33m,\u001b[0m \u001b[0mdictionary\u001b[0m\u001b[1;33m,\u001b[0m \u001b[0msort_topics\u001b[0m\u001b[1;33m=\u001b[0m\u001b[1;32mFalse\u001b[0m\u001b[1;33m,\u001b[0m \u001b[0mmds\u001b[0m\u001b[1;33m=\u001b[0m\u001b[1;34m'mmds'\u001b[0m\u001b[1;33m)\u001b[0m\u001b[1;33m\u001b[0m\u001b[1;33m\u001b[0m\u001b[0m\n\u001b[0m\u001b[0;32m      2\u001b[0m \u001b[0mpyLDAvis\u001b[0m\u001b[1;33m.\u001b[0m\u001b[0mdisplay\u001b[0m\u001b[1;33m(\u001b[0m\u001b[0mlda_display\u001b[0m\u001b[1;33m)\u001b[0m\u001b[1;33m\u001b[0m\u001b[1;33m\u001b[0m\u001b[0m\n",
      "\u001b[1;31mNameError\u001b[0m: name 'pyLDAvis' is not defined"
     ]
    }
   ],
   "source": [
    "lda_display = pyLDAvis.gensim_models.prepare(ldamodel, doc_term_matrix, dictionary, sort_topics=False, mds='mmds')\n",
    "pyLDAvis.display(lda_display)"
   ]
  },
  {
   "cell_type": "code",
   "execution_count": 12,
   "id": "0f1745f7",
   "metadata": {},
   "outputs": [],
   "source": [
    "# Assigns the topics to the documents in corpus\n",
    "lda_corpus = ldamodel[doc_term_matrix]"
   ]
  },
  {
   "cell_type": "code",
   "execution_count": 13,
   "id": "ba3e98ba",
   "metadata": {},
   "outputs": [
    {
     "data": {
      "text/plain": [
       "[[(0, 1.7859604e-06),\n",
       "  (1, 1.7864152e-06),\n",
       "  (2, 1.7859604e-06),\n",
       "  (3, 1.786145e-06),\n",
       "  (4, 1.7859604e-06),\n",
       "  (5, 1.7859604e-06),\n",
       "  (6, 0.99998397),\n",
       "  (7, 1.7859604e-06),\n",
       "  (8, 1.7864241e-06),\n",
       "  (9, 1.7859604e-06)],\n",
       " [(0, 0.00010353334),\n",
       "  (1, 0.00010356326),\n",
       "  (2, 0.00010353334),\n",
       "  (3, 0.99906814),\n",
       "  (4, 0.00010353334),\n",
       "  (5, 0.00010353334),\n",
       "  (6, 0.00010355742),\n",
       "  (7, 0.00010353334),\n",
       "  (8, 0.000103561164),\n",
       "  (9, 0.00010353334)],\n",
       " [(0, 1.7649986e-06),\n",
       "  (1, 0.00014743926),\n",
       "  (2, 1.7649986e-06),\n",
       "  (3, 1.7651889e-06),\n",
       "  (4, 1.7649986e-06),\n",
       "  (5, 1.7649986e-06),\n",
       "  (6, 0.99795306),\n",
       "  (7, 1.7649986e-06),\n",
       "  (8, 0.0018871106),\n",
       "  (9, 1.7649986e-06)],\n",
       " [(0, 1.2126302e-05),\n",
       "  (1, 1.212829e-05),\n",
       "  (2, 1.2126302e-05),\n",
       "  (3, 1.2127343e-05),\n",
       "  (4, 1.2126302e-05),\n",
       "  (5, 1.2126302e-05),\n",
       "  (6, 0.000111982794),\n",
       "  (7, 1.2126302e-05),\n",
       "  (8, 0.99979097),\n",
       "  (9, 1.2126302e-05)],\n",
       " [(0, 3.9096094e-06),\n",
       "  (1, 0.09746134),\n",
       "  (2, 3.9096094e-06),\n",
       "  (3, 3.910065e-06),\n",
       "  (4, 3.9096094e-06),\n",
       "  (5, 3.9096094e-06),\n",
       "  (6, 3.998605e-06),\n",
       "  (7, 3.9096094e-06),\n",
       "  (8, 0.9025073),\n",
       "  (9, 3.9096094e-06)],\n",
       " [(0, 2.9793002e-06),\n",
       "  (1, 0.9999625),\n",
       "  (2, 2.9793002e-06),\n",
       "  (3, 2.9795942e-06),\n",
       "  (4, 2.9793002e-06),\n",
       "  (5, 2.9793002e-06),\n",
       "  (6, 2.9800103e-06),\n",
       "  (7, 2.9793002e-06),\n",
       "  (8, 1.3639901e-05),\n",
       "  (9, 2.9793002e-06)],\n",
       " [(0, 4.7842486e-06),\n",
       "  (1, 0.0021154312),\n",
       "  (2, 4.7842486e-06),\n",
       "  (3, 4.784727e-06),\n",
       "  (4, 4.7842486e-06),\n",
       "  (5, 4.7842486e-06),\n",
       "  (6, 4.785493e-06),\n",
       "  (7, 4.7842486e-06),\n",
       "  (8, 0.99784625),\n",
       "  (9, 4.7842486e-06)]]"
      ]
     },
     "execution_count": 13,
     "metadata": {},
     "output_type": "execute_result"
    }
   ],
   "source": [
    "[doc for doc in lda_corpus]"
   ]
  },
  {
   "cell_type": "code",
   "execution_count": 14,
   "id": "207d13fe",
   "metadata": {},
   "outputs": [
    {
     "name": "stdout",
     "output_type": "stream",
     "text": [
      "0.10000000163105531\n"
     ]
    }
   ],
   "source": [
    "scores = list(chain(*[[score for topic_id,score in topic] \\\n",
    "                      for topic in [doc for doc in lda_corpus]]))\n",
    "\n",
    "threshold = sum(scores)/len(scores)\n",
    "print(threshold)"
   ]
  },
  {
   "cell_type": "code",
   "execution_count": 15,
   "id": "057c0e41",
   "metadata": {},
   "outputs": [
    {
     "name": "stdout",
     "output_type": "stream",
     "text": [
      "0\n",
      "1\n",
      "0\n"
     ]
    }
   ],
   "source": [
    "cluster1 = [j for i,j in zip(lda_corpus,df1.index) if i[0][1] > threshold]\n",
    "cluster2 = [j for i,j in zip(lda_corpus,df1.index) if i[1][1] > threshold]\n",
    "cluster3 = [j for i,j in zip(lda_corpus,df1.index) if i[2][1] > threshold]\n",
    "# cluster4 = [j for i,j in zip(lda_corpus,df.index) if i[3][1] > threshold]\n",
    "# cluster5 = [j for i,j in zip(lda_corpus,df.index) if i[4][1] > threshold]\n",
    "\n",
    "print(len(cluster1))\n",
    "print(len(cluster2))\n",
    "print(len(cluster3))\n",
    "# print(len(cluster4))\n",
    "# print(len(cluster5))\n"
   ]
  },
  {
   "cell_type": "code",
   "execution_count": 16,
   "id": "0ffcdb54",
   "metadata": {},
   "outputs": [
    {
     "data": {
      "text/html": [
       "<div>\n",
       "<style scoped>\n",
       "    .dataframe tbody tr th:only-of-type {\n",
       "        vertical-align: middle;\n",
       "    }\n",
       "\n",
       "    .dataframe tbody tr th {\n",
       "        vertical-align: top;\n",
       "    }\n",
       "\n",
       "    .dataframe thead th {\n",
       "        text-align: right;\n",
       "    }\n",
       "</style>\n",
       "<table border=\"1\" class=\"dataframe\">\n",
       "  <thead>\n",
       "    <tr style=\"text-align: right;\">\n",
       "      <th></th>\n",
       "      <th>topic</th>\n",
       "      <th>topic_text</th>\n",
       "      <th>text_clean</th>\n",
       "    </tr>\n",
       "  </thead>\n",
       "  <tbody>\n",
       "  </tbody>\n",
       "</table>\n",
       "</div>"
      ],
      "text/plain": [
       "Empty DataFrame\n",
       "Columns: [topic, topic_text, text_clean]\n",
       "Index: []"
      ]
     },
     "execution_count": 16,
     "metadata": {},
     "output_type": "execute_result"
    }
   ],
   "source": [
    "df1.iloc[cluster1]"
   ]
  },
  {
   "cell_type": "code",
   "execution_count": 17,
   "id": "2a30d29b",
   "metadata": {},
   "outputs": [
    {
     "data": {
      "text/html": [
       "<div>\n",
       "<style scoped>\n",
       "    .dataframe tbody tr th:only-of-type {\n",
       "        vertical-align: middle;\n",
       "    }\n",
       "\n",
       "    .dataframe tbody tr th {\n",
       "        vertical-align: top;\n",
       "    }\n",
       "\n",
       "    .dataframe thead th {\n",
       "        text-align: right;\n",
       "    }\n",
       "</style>\n",
       "<table border=\"1\" class=\"dataframe\">\n",
       "  <thead>\n",
       "    <tr style=\"text-align: right;\">\n",
       "      <th></th>\n",
       "      <th>topic</th>\n",
       "      <th>topic_text</th>\n",
       "      <th>text_clean</th>\n",
       "    </tr>\n",
       "  </thead>\n",
       "  <tbody>\n",
       "    <tr>\n",
       "      <th>5</th>\n",
       "      <td>Raw Data_5.txt</td>\n",
       "      <td>\\n1)Introduction\\nhello and welcome to the cou...</td>\n",
       "      <td>[1introduction, hello, welcome, course, introd...</td>\n",
       "    </tr>\n",
       "  </tbody>\n",
       "</table>\n",
       "</div>"
      ],
      "text/plain": [
       "            topic                                         topic_text  \\\n",
       "5  Raw Data_5.txt  \\n1)Introduction\\nhello and welcome to the cou...   \n",
       "\n",
       "                                          text_clean  \n",
       "5  [1introduction, hello, welcome, course, introd...  "
      ]
     },
     "execution_count": 17,
     "metadata": {},
     "output_type": "execute_result"
    }
   ],
   "source": [
    "df1.iloc[cluster2]"
   ]
  },
  {
   "cell_type": "code",
   "execution_count": 18,
   "id": "e4e4dd2f",
   "metadata": {},
   "outputs": [
    {
     "data": {
      "text/html": [
       "<div>\n",
       "<style scoped>\n",
       "    .dataframe tbody tr th:only-of-type {\n",
       "        vertical-align: middle;\n",
       "    }\n",
       "\n",
       "    .dataframe tbody tr th {\n",
       "        vertical-align: top;\n",
       "    }\n",
       "\n",
       "    .dataframe thead th {\n",
       "        text-align: right;\n",
       "    }\n",
       "</style>\n",
       "<table border=\"1\" class=\"dataframe\">\n",
       "  <thead>\n",
       "    <tr style=\"text-align: right;\">\n",
       "      <th></th>\n",
       "      <th>topic</th>\n",
       "      <th>topic_text</th>\n",
       "      <th>text_clean</th>\n",
       "    </tr>\n",
       "  </thead>\n",
       "  <tbody>\n",
       "  </tbody>\n",
       "</table>\n",
       "</div>"
      ],
      "text/plain": [
       "Empty DataFrame\n",
       "Columns: [topic, topic_text, text_clean]\n",
       "Index: []"
      ]
     },
     "execution_count": 18,
     "metadata": {},
     "output_type": "execute_result"
    }
   ],
   "source": [
    "df1.iloc[cluster3]"
   ]
  },
  {
   "cell_type": "code",
   "execution_count": null,
   "id": "60f13577",
   "metadata": {},
   "outputs": [],
   "source": []
  },
  {
   "cell_type": "code",
   "execution_count": null,
   "id": "21e32833",
   "metadata": {},
   "outputs": [],
   "source": []
  }
 ],
 "metadata": {
  "kernelspec": {
   "display_name": "Python 3",
   "language": "python",
   "name": "python3"
  },
  "language_info": {
   "codemirror_mode": {
    "name": "ipython",
    "version": 3
   },
   "file_extension": ".py",
   "mimetype": "text/x-python",
   "name": "python",
   "nbconvert_exporter": "python",
   "pygments_lexer": "ipython3",
   "version": "3.8.8"
  }
 },
 "nbformat": 4,
 "nbformat_minor": 5
}
